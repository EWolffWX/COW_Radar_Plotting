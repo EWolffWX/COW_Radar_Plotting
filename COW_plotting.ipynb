{
 "cells": [
  {
   "cell_type": "markdown",
   "metadata": {},
   "source": [
    "## COW Radar Plotting with py-ART"
   ]
  },
  {
   "cell_type": "markdown",
   "metadata": {},
   "source": [
    "This code is based on py-ART tutorials available at https://arm-doe.github.io/pyart/examples/index.html but is modified slightly for use specifically with the Illinois FARM C-Band on Wheels (COW) radar."
   ]
  },
  {
   "cell_type": "code",
   "execution_count": null,
   "metadata": {},
   "outputs": [],
   "source": [
    "import pyart\n",
    "import matplotlib.pyplot as plt"
   ]
  },
  {
   "cell_type": "code",
   "execution_count": null,
   "metadata": {},
   "outputs": [],
   "source": [
    "# Read in radar data in cfradial format (this is an example of the COW's file formatting)\n",
    "radar = pyart.io.read('cfrad.20220322_230026.916_to_20220322_230039.782_COW1high_SUR.nc')"
   ]
  },
  {
   "cell_type": "code",
   "execution_count": null,
   "metadata": {},
   "outputs": [],
   "source": [
    "# List available radar products in this file\n",
    "radar.fields.keys()"
   ]
  },
  {
   "cell_type": "code",
   "execution_count": null,
   "metadata": {},
   "outputs": [],
   "source": [
    "# In order to plot data, pyART needs to know what type of scan the file contains (PPI vs. RHI).\n",
    "# This may not be contained within the COW data files, so we can set it manually. In this case\n",
    "# our data is in the form of a PPI scan.\n",
    "radar.scan_type = 'ppi'"
   ]
  },
  {
   "cell_type": "code",
   "execution_count": null,
   "metadata": {},
   "outputs": [],
   "source": [
    "# We can now create a basic plot of reflectivity\n",
    "# We've also set a vmin and vmax, changed the colormap and added range rings, cross hairs,\n",
    "# and grid lines.\n",
    "display = pyart.graph.RadarDisplay(radar)\n",
    "fig = plt.figure(figsize=(14,12))\n",
    "ax = fig.add_subplot(111)\n",
    "display.plot('DBZHC', 0, vmin=-32, vmax=64., cmap='pyart_Carbone42')\n",
    "display.plot_range_rings([30, 60, 89])\n",
    "display.plot_cross_hair(2.)\n",
    "display.plot_grid_lines()\n",
    "\n",
    "plt.show()"
   ]
  },
  {
   "cell_type": "code",
   "execution_count": null,
   "metadata": {},
   "outputs": [],
   "source": [
    "# We can also create a multi-panel plot using standard matplotlib subplot conventions. Here \n",
    "# we are plotting reflectivity and velocty side-by-side.\n",
    "display = pyart.graph.RadarDisplay(radar)\n",
    "fig = plt.figure(figsize=(14,12))\n",
    "ax = fig.add_subplot(221)\n",
    "display.plot('DBZHC', 0, vmin=-32, vmax=64., cmap='pyart_Carbone42')\n",
    "display.plot_range_rings([30, 60, 89])\n",
    "display.plot_cross_hair(2.)\n",
    "display.plot_grid_lines()\n",
    "\n",
    "ax = fig.add_subplot(222)\n",
    "display.plot('VEL', 0, vmin=-32, vmax=32., cmap='pyart_Carbone42')\n",
    "display.plot_range_rings([30, 60, 89])\n",
    "display.plot_cross_hair(2.)\n",
    "display.plot_grid_lines()\n",
    "\n",
    "plt.show()"
   ]
  },
  {
   "cell_type": "code",
   "execution_count": null,
   "metadata": {},
   "outputs": [],
   "source": [
    "# Plotss can be zoomed into a particular area using display.set_limits and specifying\n",
    "# x and y limits in kilometers from the radar.\n",
    "display = pyart.graph.RadarDisplay(radar)\n",
    "fig = plt.figure(figsize=(14,12))\n",
    "ax = fig.add_subplot(111)\n",
    "display.plot('DBZHC', 0, vmin=-32, vmax=64., cmap='pyart_Carbone42')\n",
    "display.plot_range_rings([10, 20, 30])\n",
    "display.plot_cross_hair(1.)\n",
    "display.plot_grid_lines()\n",
    "display.set_limits(xlim=(-15, 15), ylim=(-30, 0))\n",
    "\n",
    "plt.show()"
   ]
  },
  {
   "cell_type": "markdown",
   "metadata": {},
   "source": [
    "Py-ART also has a number of advanced data editing features that allow for quality control. Some detailed examples are available at this link (http://wiki.lrose.net/index.php/Csu_radartools_tutorial) and on the py-ART website within the pyart.correct section.\n",
    "\n",
    "Here, we will only demonstrate the masking feature as it is frequently useful and simple to use."
   ]
  },
  {
   "cell_type": "code",
   "execution_count": null,
   "metadata": {},
   "outputs": [],
   "source": [
    "# Create a gatefilter object\n",
    "gatefilter = pyart.correct.GateFilter(radar)\n",
    "\n",
    "# Mask all regions (within all products) where reflectivity is below 5 dBZ\n",
    "gatefilter.exclude_below('DBZHC', 5)\n",
    "\n",
    "# Remove any speckled values that are left behind when these values are masked\n",
    "pyart.correct.despeckle_field(radar, 'DBZHC', label_dict=None, threshold=- 100, size=10, \n",
    "                                gatefilter=gatefilter, delta=5.0)\n",
    "\n",
    "# Setup our display\n",
    "display = pyart.graph.RadarDisplay(radar)\n",
    "fig = plt.figure(figsize=(14,12))\n",
    "ax = fig.add_subplot(221)\n",
    "display.plot('DBZHC', 0, vmin=-32, vmax=64., cmap='pyart_Carbone42', gatefilter=gatefilter)\n",
    "display.plot_range_rings([30, 60, 89])\n",
    "display.plot_cross_hair(2.)\n",
    "display.plot_grid_lines()\n",
    "#display.set_limits(xlim=(-15, 15), ylim=(-30, 0))\n",
    "\n",
    "ax = fig.add_subplot(222)\n",
    "display.plot('VEL', 0, vmin=-32, vmax=32., cmap='pyart_Carbone42', gatefilter=gatefilter)\n",
    "display.plot_range_rings([30, 60, 89])\n",
    "display.plot_cross_hair(2.)\n",
    "display.plot_grid_lines()\n",
    "#display.set_limits(xlim=(-15, 15), ylim=(-30, 0))\n",
    "\n",
    "plt.show()"
   ]
  }
 ],
 "metadata": {
  "kernelspec": {
   "display_name": "Python 3.10.4 ('py3')",
   "language": "python",
   "name": "python3"
  },
  "language_info": {
   "name": "python",
   "version": "3.10.4"
  },
  "orig_nbformat": 4,
  "vscode": {
   "interpreter": {
    "hash": "767458629f70b2fb8974b169dd4c249d435b9fc9feafc8bbb1d89602058085cc"
   }
  }
 },
 "nbformat": 4,
 "nbformat_minor": 2
}
